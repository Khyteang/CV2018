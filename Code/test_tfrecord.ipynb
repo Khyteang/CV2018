{
 "cells": [
  {
   "cell_type": "code",
   "execution_count": null,
   "metadata": {},
   "outputs": [
    {
     "name": "stdout",
     "output_type": "stream",
     "text": [
      "> <ipython-input-1-ef8e4f5c69eb>(24)<module>()\n",
      "-> image = sess.run(image_batch)\n",
      "(Pdb) image_batch\n",
      "<tf.Tensor 'batch:0' shape=(16, 256, 256, 3) dtype=float32>\n",
      "(Pdb) c\n"
     ]
    }
   ],
   "source": [
    "import tensorflow as tf\n",
    "import numpy as np\n",
    "import matplotlib.pyplot as plt\n",
    "import os\n",
    "from dataset_utils import NucleusDataset\n",
    "\n",
    "from config import Configuration\n",
    "\n",
    "with tf.Session() as sess:\n",
    "    # Initialize all global and local variables\n",
    "    init_op = tf.group(tf.global_variables_initializer(), tf.local_variables_initializer())\n",
    "    sess.run(init_op)\n",
    "    \n",
    "    # Create a coordinator and run all QueueRunner objects\n",
    "    coord = tf.train.Coordinator()\n",
    "    threads = tf.train.start_queue_runners(coord=coord)\n",
    "    \n",
    "    dataset = NucleusDataset('train', is_training=True)\n",
    "    \n",
    "    (image_batch, image_id_batch), raw_images, _ = dataset.load_batch()\n",
    "    \n",
    "    import pdb; pdb.set_trace()\n",
    "    \n",
    "    image = sess.run(image_batch)\n",
    "    \n",
    "    import pdb; pdb.set_trace()\n",
    "\n",
    "    plt.subplot(1, 3, 1)\n",
    "    plt.imshow(image)\n",
    "    plt.title(\"FEATURE\")\n",
    "\n",
    "    plt.subplot(1, 2, 2)\n",
    "    plt.imshow(raw_image)\n",
    "    plt.title(\"RAW\")\n",
    "\n",
    "    plt.show()"
   ]
  },
  {
   "cell_type": "code",
   "execution_count": null,
   "metadata": {},
   "outputs": [],
   "source": []
  },
  {
   "cell_type": "code",
   "execution_count": null,
   "metadata": {},
   "outputs": [],
   "source": []
  }
 ],
 "metadata": {
  "kernelspec": {
   "display_name": "Python 3",
   "language": "python",
   "name": "python3"
  },
  "language_info": {
   "codemirror_mode": {
    "name": "ipython",
    "version": 3
   },
   "file_extension": ".py",
   "mimetype": "text/x-python",
   "name": "python",
   "nbconvert_exporter": "python",
   "pygments_lexer": "ipython3",
   "version": "3.5.2"
  }
 },
 "nbformat": 4,
 "nbformat_minor": 2
}
